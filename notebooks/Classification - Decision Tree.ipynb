{
 "cells": [
  {
   "cell_type": "markdown",
   "metadata": {},
   "source": [
    "## Data Science Methodology With Decision Trees and Clustering\n",
    "\n",
    "Python and Pandas version of https://gist.github.com/polong-lin/272fa27c135da785e29b5ef3628692ae"
   ]
  },
  {
   "cell_type": "markdown",
   "metadata": {},
   "source": [
    "### Download the data file"
   ]
  },
  {
   "cell_type": "code",
   "execution_count": 40,
   "metadata": {
    "collapsed": false
   },
   "outputs": [],
   "source": [
    "import os\n",
    "import pprint\n",
    "\n",
    "from sklearn.cluster import KMeans\n",
    "import pandas as pd\n",
    "import requests\n",
    "\n",
    "\n",
    "fname = 'recipes.csv'\n",
    "if not os.path.isfile(fname):\n",
    "    data_url = 'https://ibm.box.com/shared/static/5wah9atr5o1akuuavl2z9tkjzdinr1lv.csv'\n",
    "    response = requests.get(data_url)\n",
    "    if response.ok:\n",
    "        fp = open(fname, 'w')\n",
    "        fp.write(response.content)\n",
    "        fp.close()\n",
    "        print 'Data file downloaded'"
   ]
  },
  {
   "cell_type": "markdown",
   "metadata": {},
   "source": [
    "### Load data in a dataframe"
   ]
  },
  {
   "cell_type": "code",
   "execution_count": 27,
   "metadata": {
    "collapsed": false
   },
   "outputs": [
    {
     "data": {
      "text/html": [
       "<div>\n",
       "<table border=\"1\" class=\"dataframe\">\n",
       "  <thead>\n",
       "    <tr style=\"text-align: right;\">\n",
       "      <th></th>\n",
       "      <th>country</th>\n",
       "      <th>almond</th>\n",
       "      <th>angelica</th>\n",
       "      <th>anise</th>\n",
       "      <th>anise_seed</th>\n",
       "      <th>apple</th>\n",
       "      <th>apple_brandy</th>\n",
       "      <th>apricot</th>\n",
       "      <th>armagnac</th>\n",
       "      <th>artemisia</th>\n",
       "      <th>...</th>\n",
       "      <th>whiskey</th>\n",
       "      <th>white_bread</th>\n",
       "      <th>white_wine</th>\n",
       "      <th>whole_grain_wheat_flour</th>\n",
       "      <th>wine</th>\n",
       "      <th>wood</th>\n",
       "      <th>yam</th>\n",
       "      <th>yeast</th>\n",
       "      <th>yogurt</th>\n",
       "      <th>zucchini</th>\n",
       "    </tr>\n",
       "  </thead>\n",
       "  <tbody>\n",
       "    <tr>\n",
       "      <th>0</th>\n",
       "      <td>Vietnamese</td>\n",
       "      <td>No</td>\n",
       "      <td>No</td>\n",
       "      <td>No</td>\n",
       "      <td>No</td>\n",
       "      <td>No</td>\n",
       "      <td>No</td>\n",
       "      <td>No</td>\n",
       "      <td>No</td>\n",
       "      <td>No</td>\n",
       "      <td>...</td>\n",
       "      <td>No</td>\n",
       "      <td>No</td>\n",
       "      <td>No</td>\n",
       "      <td>No</td>\n",
       "      <td>No</td>\n",
       "      <td>No</td>\n",
       "      <td>No</td>\n",
       "      <td>No</td>\n",
       "      <td>No</td>\n",
       "      <td>No</td>\n",
       "    </tr>\n",
       "    <tr>\n",
       "      <th>1</th>\n",
       "      <td>Vietnamese</td>\n",
       "      <td>No</td>\n",
       "      <td>No</td>\n",
       "      <td>No</td>\n",
       "      <td>No</td>\n",
       "      <td>No</td>\n",
       "      <td>No</td>\n",
       "      <td>No</td>\n",
       "      <td>No</td>\n",
       "      <td>No</td>\n",
       "      <td>...</td>\n",
       "      <td>No</td>\n",
       "      <td>No</td>\n",
       "      <td>No</td>\n",
       "      <td>No</td>\n",
       "      <td>No</td>\n",
       "      <td>No</td>\n",
       "      <td>No</td>\n",
       "      <td>No</td>\n",
       "      <td>No</td>\n",
       "      <td>No</td>\n",
       "    </tr>\n",
       "    <tr>\n",
       "      <th>2</th>\n",
       "      <td>Vietnamese</td>\n",
       "      <td>No</td>\n",
       "      <td>No</td>\n",
       "      <td>No</td>\n",
       "      <td>No</td>\n",
       "      <td>No</td>\n",
       "      <td>No</td>\n",
       "      <td>No</td>\n",
       "      <td>No</td>\n",
       "      <td>No</td>\n",
       "      <td>...</td>\n",
       "      <td>No</td>\n",
       "      <td>No</td>\n",
       "      <td>No</td>\n",
       "      <td>No</td>\n",
       "      <td>No</td>\n",
       "      <td>No</td>\n",
       "      <td>No</td>\n",
       "      <td>No</td>\n",
       "      <td>No</td>\n",
       "      <td>No</td>\n",
       "    </tr>\n",
       "    <tr>\n",
       "      <th>3</th>\n",
       "      <td>Vietnamese</td>\n",
       "      <td>No</td>\n",
       "      <td>No</td>\n",
       "      <td>No</td>\n",
       "      <td>No</td>\n",
       "      <td>No</td>\n",
       "      <td>No</td>\n",
       "      <td>No</td>\n",
       "      <td>No</td>\n",
       "      <td>No</td>\n",
       "      <td>...</td>\n",
       "      <td>No</td>\n",
       "      <td>No</td>\n",
       "      <td>No</td>\n",
       "      <td>No</td>\n",
       "      <td>No</td>\n",
       "      <td>No</td>\n",
       "      <td>No</td>\n",
       "      <td>No</td>\n",
       "      <td>No</td>\n",
       "      <td>No</td>\n",
       "    </tr>\n",
       "    <tr>\n",
       "      <th>4</th>\n",
       "      <td>Vietnamese</td>\n",
       "      <td>No</td>\n",
       "      <td>No</td>\n",
       "      <td>No</td>\n",
       "      <td>No</td>\n",
       "      <td>No</td>\n",
       "      <td>No</td>\n",
       "      <td>No</td>\n",
       "      <td>No</td>\n",
       "      <td>No</td>\n",
       "      <td>...</td>\n",
       "      <td>No</td>\n",
       "      <td>No</td>\n",
       "      <td>No</td>\n",
       "      <td>No</td>\n",
       "      <td>No</td>\n",
       "      <td>No</td>\n",
       "      <td>No</td>\n",
       "      <td>No</td>\n",
       "      <td>No</td>\n",
       "      <td>No</td>\n",
       "    </tr>\n",
       "  </tbody>\n",
       "</table>\n",
       "<p>5 rows × 384 columns</p>\n",
       "</div>"
      ],
      "text/plain": [
       "      country almond angelica anise anise_seed apple apple_brandy apricot  \\\n",
       "0  Vietnamese     No       No    No         No    No           No      No   \n",
       "1  Vietnamese     No       No    No         No    No           No      No   \n",
       "2  Vietnamese     No       No    No         No    No           No      No   \n",
       "3  Vietnamese     No       No    No         No    No           No      No   \n",
       "4  Vietnamese     No       No    No         No    No           No      No   \n",
       "\n",
       "  armagnac artemisia   ...    whiskey white_bread white_wine  \\\n",
       "0       No        No   ...         No          No         No   \n",
       "1       No        No   ...         No          No         No   \n",
       "2       No        No   ...         No          No         No   \n",
       "3       No        No   ...         No          No         No   \n",
       "4       No        No   ...         No          No         No   \n",
       "\n",
       "  whole_grain_wheat_flour wine wood yam yeast yogurt zucchini  \n",
       "0                      No   No   No  No    No     No       No  \n",
       "1                      No   No   No  No    No     No       No  \n",
       "2                      No   No   No  No    No     No       No  \n",
       "3                      No   No   No  No    No     No       No  \n",
       "4                      No   No   No  No    No     No       No  \n",
       "\n",
       "[5 rows x 384 columns]"
      ]
     },
     "execution_count": 27,
     "metadata": {},
     "output_type": "execute_result"
    }
   ],
   "source": [
    "df = pd.read_csv('recipes.csv')\n",
    "df.head()"
   ]
  },
  {
   "cell_type": "markdown",
   "metadata": {},
   "source": [
    "### Number of rows and columns"
   ]
  },
  {
   "cell_type": "code",
   "execution_count": 21,
   "metadata": {
    "collapsed": false
   },
   "outputs": [
    {
     "name": "stdout",
     "output_type": "stream",
     "text": [
      "Rows: 57691\n",
      "Columns: 384\n"
     ]
    }
   ],
   "source": [
    "print 'Rows: {}'.format(len(df.index))\n",
    "print 'Columns: {}'.format(len(df.axes[1]))"
   ]
  },
  {
   "cell_type": "markdown",
   "metadata": {},
   "source": [
    "### Filter ingredients"
   ]
  },
  {
   "cell_type": "code",
   "execution_count": 23,
   "metadata": {
    "collapsed": false
   },
   "outputs": [
    {
     "name": "stdout",
     "output_type": "stream",
     "text": [
      "['brown_rice' 'licorice' 'rice']\n"
     ]
    }
   ],
   "source": [
    "print df.filter(regex='rice').axes[1].values"
   ]
  },
  {
   "cell_type": "code",
   "execution_count": 14,
   "metadata": {
    "collapsed": false
   },
   "outputs": [
    {
     "name": "stdout",
     "output_type": "stream",
     "text": [
      "['wasabi']\n"
     ]
    }
   ],
   "source": [
    "print df.filter(regex='wasabi').axes[1].values"
   ]
  },
  {
   "cell_type": "code",
   "execution_count": 15,
   "metadata": {
    "collapsed": false
   },
   "outputs": [
    {
     "name": "stdout",
     "output_type": "stream",
     "text": [
      "['soy_sauce' 'soybean' 'soybean_oil']\n"
     ]
    }
   ],
   "source": [
    "print df.filter(regex='soy').axes[1].values"
   ]
  },
  {
   "cell_type": "markdown",
   "metadata": {},
   "source": [
    "### Recipes frequency table"
   ]
  },
  {
   "cell_type": "code",
   "execution_count": 17,
   "metadata": {
    "collapsed": false
   },
   "outputs": [
    {
     "data": {
      "text/plain": [
       "American                 40150\n",
       "Mexico                    1754\n",
       "Italian                   1715\n",
       "Italy                     1461\n",
       "Asian                     1176\n",
       "French                     996\n",
       "east_asian                 951\n",
       "Canada                     774\n",
       "korean                     767\n",
       "Mexican                    622\n",
       "western                    450\n",
       "Southern_SoulFood          346\n",
       "India                      324\n",
       "Jewish                     320\n",
       "Spanish_Portuguese         291\n",
       "Mediterranean              289\n",
       "UK-and-Ireland             282\n",
       "Indian                     274\n",
       "France                     268\n",
       "MiddleEastern              248\n",
       "Central_SouthAmerican      241\n",
       "Germany                    237\n",
       "Eastern-Europe             235\n",
       "Chinese                    226\n",
       "Greek                      225\n",
       "English_Scottish           204\n",
       "Caribbean                  183\n",
       "Thai                       164\n",
       "Scandinavia                158\n",
       "Cajun_Creole               146\n",
       "                         ...  \n",
       "Scandinavian                92\n",
       "chinese                     86\n",
       "Irish                       86\n",
       "Japan                       85\n",
       "Spain                       75\n",
       "italian                     74\n",
       "Vietnamese                  65\n",
       "North-African               60\n",
       "German                      52\n",
       "Portugal                    50\n",
       "Philippines                 43\n",
       "Netherlands                 32\n",
       "Korea                       32\n",
       "Lebanon                     31\n",
       "Vietnam                     30\n",
       "Austria                     21\n",
       "Iran                        21\n",
       "Switzerland                 20\n",
       "Pakistan                    19\n",
       "Malaysia                    18\n",
       "asian                       17\n",
       "South-African               16\n",
       "Turkey                      16\n",
       "mexico                      14\n",
       "West-African                13\n",
       "Indonesia                   12\n",
       "East-African                11\n",
       "Belgium                     11\n",
       "Israel                       9\n",
       "Bangladesh                   4\n",
       "Name: country, dtype: int64"
      ]
     },
     "execution_count": 17,
     "metadata": {},
     "output_type": "execute_result"
    }
   ],
   "source": [
    "df['country'].value_counts()"
   ]
  },
  {
   "cell_type": "markdown",
   "metadata": {},
   "source": [
    "### Clean data"
   ]
  },
  {
   "cell_type": "code",
   "execution_count": 30,
   "metadata": {
    "collapsed": true
   },
   "outputs": [],
   "source": [
    "def rename_country(value):\n",
    "    country_mapping = {\n",
    "        'china': 'chinese',\n",
    "        'france': 'french',\n",
    "        'germany': 'german',\n",
    "        'india': 'indian',\n",
    "        'israel': 'jewish',\n",
    "        'italy': 'italian',\n",
    "        'japan': 'japanese',\n",
    "        'korea': 'korean',\n",
    "        'mexico': 'mexican',\n",
    "        'scandinavia': 'scandinavian',\n",
    "        'thailand': 'thai',\n",
    "        'vietname': 'vietnamese',\n",
    "    }\n",
    "    return country_mapping.get(value, value)\n",
    "\n",
    "df['country'] = df['country'].str.lower()\n",
    "df['country'] = df['country'].apply(rename_country)\n",
    "df.replace('Yes', 1, inplace=True)\n",
    "df.replace('No', 0, inplace=True)"
   ]
  },
  {
   "cell_type": "markdown",
   "metadata": {},
   "source": [
    "### Most popular ingredients"
   ]
  },
  {
   "cell_type": "code",
   "execution_count": 31,
   "metadata": {
    "collapsed": false
   },
   "outputs": [
    {
     "data": {
      "text/plain": [
       "egg                 21114\n",
       "wheat               20896\n",
       "butter              20814\n",
       "onion               18205\n",
       "garlic              17465\n",
       "milk                12925\n",
       "vegetable_oil       11189\n",
       "cream               10194\n",
       "tomato               9978\n",
       "olive_oil            9923\n",
       "black_pepper         9893\n",
       "pepper               9282\n",
       "vanilla              9040\n",
       "cayenne              8303\n",
       "vinegar              8097\n",
       "cane_molasses        7770\n",
       "bell_pepper          6006\n",
       "cinnamon             5639\n",
       "parsley              5579\n",
       "chicken              5483\n",
       "lemon_juice          5099\n",
       "beef                 4946\n",
       "corn                 4836\n",
       "cocoa                4807\n",
       "scallion             4798\n",
       "bread                4596\n",
       "ginger               4396\n",
       "mustard              4125\n",
       "rice                 3888\n",
       "basil                3845\n",
       "                    ...  \n",
       "chamomile               3\n",
       "roasted_almond          3\n",
       "rapeseed                3\n",
       "hop                     3\n",
       "holy_basil              3\n",
       "long_pepper             2\n",
       "strawberry_juice        2\n",
       "raw_beef                2\n",
       "sheep_cheese            2\n",
       "laurel                  2\n",
       "red_algae               2\n",
       "jasmine_tea             2\n",
       "soybean_oil             2\n",
       "pimenta                 2\n",
       "roasted_pecan           1\n",
       "roasted_nut             1\n",
       "angelica                1\n",
       "roasted_hazelnut        1\n",
       "mate                    1\n",
       "pelargonium             1\n",
       "sturgeon_caviar         1\n",
       "muscat_grape            1\n",
       "beech                   1\n",
       "strawberry_jam          1\n",
       "durian                  1\n",
       "lilac_flower_oil        1\n",
       "emmental_cheese         1\n",
       "jamaican_rum            1\n",
       "geranium                1\n",
       "kaffir_lime             1\n",
       "dtype: int64"
      ]
     },
     "execution_count": 31,
     "metadata": {},
     "output_type": "execute_result"
    }
   ],
   "source": [
    "df[df > 0].count(axis=0).sort_values(axis=0, ascending=False).drop('country')"
   ]
  },
  {
   "cell_type": "markdown",
   "metadata": {},
   "source": [
    "### Canadian Food"
   ]
  },
  {
   "cell_type": "code",
   "execution_count": 35,
   "metadata": {
    "collapsed": false
   },
   "outputs": [
    {
     "data": {
      "text/plain": [
       "wheat     0.395349\n",
       "butter    0.381137\n",
       "egg       0.354005\n",
       "onion     0.343669\n",
       "garlic    0.270026\n",
       "Name: canada, dtype: float64"
      ]
     },
     "execution_count": 35,
     "metadata": {},
     "output_type": "execute_result"
    }
   ],
   "source": [
    "recipes_df = df.country.value_counts().to_frame(name='total')\n",
    "recipes_df = recipes_df[recipes_df.total >= 50]\n",
    "recipes_df.sort_index(inplace=True)\n",
    "countries = recipes_df.index.values\n",
    "sum_df = df[df.country.isin(countries)].groupby(by=['country']).sum()\n",
    "norm_df = sum_df.apply(lambda k: k / recipes_df.total)\n",
    "norm_df.loc['canada'].sort_values(ascending=False).head()"
   ]
  },
  {
   "cell_type": "markdown",
   "metadata": {},
   "source": [
    "### Top 3 ingredients for each country"
   ]
  },
  {
   "cell_type": "code",
   "execution_count": 36,
   "metadata": {
    "collapsed": false
   },
   "outputs": [
    {
     "name": "stdout",
     "output_type": "stream",
     "text": [
      "african\n",
      "onion        53.043478\n",
      "olive_oil    52.173913\n",
      "garlic       49.565217\n",
      "Name: african, dtype: float64\n",
      "\n",
      "american\n",
      "butter    41.158157\n",
      "egg       40.513076\n",
      "wheat     39.840598\n",
      "Name: american, dtype: float64\n",
      "\n",
      "asian\n",
      "soy_sauce    49.622800\n",
      "ginger       48.616932\n",
      "garlic       47.946354\n",
      "Name: asian, dtype: float64\n",
      "\n",
      "cajun_creole\n",
      "onion      69.863014\n",
      "cayenne    56.164384\n",
      "garlic     48.630137\n",
      "Name: cajun_creole, dtype: float64\n",
      "\n",
      "canada\n",
      "wheat     39.534884\n",
      "butter    38.113695\n",
      "egg       35.400517\n",
      "Name: canada, dtype: float64\n",
      "\n",
      "caribbean\n",
      "onion            51.366120\n",
      "garlic           50.819672\n",
      "vegetable_oil    31.147541\n",
      "Name: caribbean, dtype: float64\n",
      "\n",
      "central_southamerican\n",
      "garlic     56.846473\n",
      "onion      54.356846\n",
      "cayenne    51.867220\n",
      "Name: central_southamerican, dtype: float64\n",
      "\n",
      "chinese\n",
      "soy_sauce    68.552036\n",
      "ginger       53.393665\n",
      "garlic       52.941176\n",
      "Name: chinese, dtype: float64\n",
      "\n",
      "east_asian\n",
      "garlic       55.205047\n",
      "soy_sauce    50.368034\n",
      "scallion     49.526814\n",
      "Name: east_asian, dtype: float64\n",
      "\n",
      "eastern-europe\n",
      "wheat     53.191489\n",
      "egg       52.340426\n",
      "butter    48.085106\n",
      "Name: eastern-europe, dtype: float64\n",
      "\n",
      "easterneuropean_russian\n",
      "butter    60.273973\n",
      "egg       50.684932\n",
      "wheat     49.315068\n",
      "Name: easterneuropean_russian, dtype: float64\n",
      "\n",
      "english_scottish\n",
      "butter    67.156863\n",
      "wheat     62.254902\n",
      "egg       53.431373\n",
      "Name: english_scottish, dtype: float64\n",
      "\n",
      "french\n",
      "butter    50.079114\n",
      "egg       44.145570\n",
      "wheat     37.341772\n",
      "Name: french, dtype: float64\n",
      "\n",
      "german\n",
      "wheat     64.705882\n",
      "egg       60.553633\n",
      "butter    47.404844\n",
      "Name: german, dtype: float64\n",
      "\n",
      "greek\n",
      "olive_oil    76.000000\n",
      "garlic       44.444444\n",
      "onion        36.444444\n",
      "Name: greek, dtype: float64\n",
      "\n",
      "indian\n",
      "cumin       60.367893\n",
      "turmeric    50.836120\n",
      "onion       49.832776\n",
      "Name: indian, dtype: float64\n",
      "\n",
      "irish\n",
      "butter    59.302326\n",
      "wheat     50.000000\n",
      "egg       46.511628\n",
      "Name: irish, dtype: float64\n",
      "\n",
      "italian\n",
      "olive_oil    60.615385\n",
      "garlic       52.584615\n",
      "tomato       39.230769\n",
      "Name: italian, dtype: float64\n",
      "\n",
      "japanese\n",
      "soy_sauce    56.875\n",
      "rice         44.375\n",
      "vinegar      36.875\n",
      "Name: japanese, dtype: float64\n",
      "\n",
      "jewish\n",
      "egg       58.662614\n",
      "wheat     49.240122\n",
      "butter    31.003040\n",
      "Name: jewish, dtype: float64\n",
      "\n",
      "korean\n",
      "garlic      59.073842\n",
      "scallion    52.440551\n",
      "cayenne     51.689612\n",
      "Name: korean, dtype: float64\n",
      "\n",
      "mediterranean\n",
      "olive_oil    79.584775\n",
      "garlic       50.519031\n",
      "onion        38.754325\n",
      "Name: mediterranean, dtype: float64\n",
      "\n",
      "mexican\n",
      "cayenne    73.514644\n",
      "onion      68.493724\n",
      "garlic     62.092050\n",
      "Name: mexican, dtype: float64\n",
      "\n",
      "middleeastern\n",
      "olive_oil    60.080645\n",
      "garlic       46.774194\n",
      "wheat        37.903226\n",
      "Name: middleeastern, dtype: float64\n",
      "\n",
      "moroccan\n",
      "olive_oil    72.992701\n",
      "cumin        54.744526\n",
      "onion        49.635036\n",
      "Name: moroccan, dtype: float64\n",
      "\n",
      "north-african\n",
      "onion        55.000000\n",
      "olive_oil    50.000000\n",
      "cumin        48.333333\n",
      "Name: north-african, dtype: float64\n",
      "\n",
      "portugal\n",
      "onion     46.0\n",
      "garlic    42.0\n",
      "egg       36.0\n",
      "Name: portugal, dtype: float64\n",
      "\n",
      "scandinavian\n",
      "butter    64.0\n",
      "wheat     58.0\n",
      "egg       52.8\n",
      "Name: scandinavian, dtype: float64\n",
      "\n",
      "south-america\n",
      "onion     42.718447\n",
      "garlic    36.893204\n",
      "egg       34.951456\n",
      "Name: south-america, dtype: float64\n",
      "\n",
      "southern_soulfood\n",
      "butter    57.803468\n",
      "wheat     48.554913\n",
      "egg       41.618497\n",
      "Name: southern_soulfood, dtype: float64\n",
      "\n",
      "southwestern\n",
      "cayenne    81.481481\n",
      "garlic     62.037037\n",
      "onion      61.111111\n",
      "Name: southwestern, dtype: float64\n",
      "\n",
      "spain\n",
      "onion        61.333333\n",
      "olive_oil    57.333333\n",
      "garlic       50.666667\n",
      "Name: spain, dtype: float64\n",
      "\n",
      "spanish_portuguese\n",
      "olive_oil    62.886598\n",
      "garlic       57.388316\n",
      "onion        43.298969\n",
      "Name: spanish_portuguese, dtype: float64\n",
      "\n",
      "thai\n",
      "garlic     59.861592\n",
      "fish       52.941176\n",
      "cayenne    47.058824\n",
      "Name: thai, dtype: float64\n",
      "\n",
      "uk-and-ireland\n",
      "wheat     60.638298\n",
      "butter    59.574468\n",
      "egg       48.581560\n",
      "Name: uk-and-ireland, dtype: float64\n",
      "\n",
      "vietnamese\n",
      "fish      78.461538\n",
      "garlic    72.307692\n",
      "rice      47.692308\n",
      "Name: vietnamese, dtype: float64\n",
      "\n",
      "western\n",
      "egg       51.333333\n",
      "wheat     46.222222\n",
      "butter    46.000000\n",
      "Name: western, dtype: float64\n",
      "\n"
     ]
    }
   ],
   "source": [
    "for country in norm_df.index:\n",
    "    print country\n",
    "    print norm_df.loc[country].sort_values(ascending=False).head()[:3] * 100\n",
    "    print ''"
   ]
  },
  {
   "cell_type": "markdown",
   "metadata": {},
   "source": [
    "### Similar cuisines"
   ]
  },
  {
   "cell_type": "code",
   "execution_count": 41,
   "metadata": {
    "collapsed": false
   },
   "outputs": [
    {
     "name": "stdout",
     "output_type": "stream",
     "text": [
      "{0: ['indian'],\n",
      " 1: ['american',\n",
      "     'canada',\n",
      "     'eastern-europe',\n",
      "     'easterneuropean_russian',\n",
      "     'english_scottish',\n",
      "     'french',\n",
      "     'german',\n",
      "     'irish',\n",
      "     'jewish',\n",
      "     'scandinavian',\n",
      "     'southern_soulfood',\n",
      "     'uk-and-ireland',\n",
      "     'western'],\n",
      " 2: ['greek', 'italian', 'mediterranean'],\n",
      " 3: ['east_asian', 'korean'],\n",
      " 4: ['cajun_creole', 'central_southamerican', 'mexican', 'southwestern'],\n",
      " 5: ['african', 'middleeastern', 'moroccan', 'north-african'],\n",
      " 6: ['thai', 'vietnamese'],\n",
      " 7: ['asian', 'chinese', 'japanese'],\n",
      " 8: ['caribbean', 'portugal', 'south-america', 'spain', 'spanish_portuguese']}\n"
     ]
    }
   ],
   "source": [
    "kmeans = KMeans(init='k-means++', n_clusters=9, n_init=10, max_iter=10)\n",
    "kmeans.fit(norm_df)\n",
    "labels = kmeans.labels_\n",
    "\n",
    "groups = {}\n",
    "for index, label in enumerate(labels):\n",
    "    if label not in groups:\n",
    "        groups[label] = []\n",
    "    groups[label].append(countries[index])\n",
    "\n",
    "pprint.pprint(groups)"
   ]
  },
  {
   "cell_type": "code",
   "execution_count": null,
   "metadata": {
    "collapsed": true
   },
   "outputs": [],
   "source": []
  }
 ],
 "metadata": {
  "kernelspec": {
   "display_name": "Python 2",
   "language": "python",
   "name": "python2"
  },
  "language_info": {
   "codemirror_mode": {
    "name": "ipython",
    "version": 2
   },
   "file_extension": ".py",
   "mimetype": "text/x-python",
   "name": "python",
   "nbconvert_exporter": "python",
   "pygments_lexer": "ipython2",
   "version": "2.7.6"
  }
 },
 "nbformat": 4,
 "nbformat_minor": 0
}
